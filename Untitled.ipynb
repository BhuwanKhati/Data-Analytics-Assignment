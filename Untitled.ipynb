{
 "cells": [
  {
   "cell_type": "code",
   "execution_count": 2,
   "id": "4bb51799",
   "metadata": {},
   "outputs": [
    {
     "name": "stdout",
     "output_type": "stream",
     "text": [
      "Hello\n"
     ]
    }
   ],
   "source": [
    "Question 1: Identify the primary keys and foreign keys in maven movies db. Discuss the differences.\n",
    "\n",
    "    \n",
    "Answer: The primary key is use to identify each records uniquely in the table whereas foreign key is use to create a relationship between two tables using primary key in other table.\n",
    "A primary key table has only one primary key .\n",
    "Primary key does not allow null values.\n",
    "A foreign key table allow more then one foreign key.\n",
    "the foreign key allows null values.\n",
    "\n",
    "Code is to see keys in a table:\n",
    "Use mavenmovies;\n",
    "describe actor;\n",
    "it will show the table grid where we can see in which column primary key is assigned. Se below screen shot.\n",
    " \n"
   ]
  },
  {
   "cell_type": "code",
   "execution_count": null,
   "id": "5a1d5a75",
   "metadata": {},
   "outputs": [],
   "source": [
    "Question 2: List all details of actors.\n",
    "Answer:   To see all details of actors in table we can write codes : \n",
    "\n",
    "select * from actor;"
   ]
  },
  {
   "cell_type": "code",
   "execution_count": null,
   "id": "445751b0",
   "metadata": {},
   "outputs": [],
   "source": [
    "Question 3: List all customer information from DB.\n",
    "Answer: select * from customer;"
   ]
  },
  {
   "cell_type": "code",
   "execution_count": null,
   "id": "6f28e200",
   "metadata": {},
   "outputs": [],
   "source": [
    "Question 4: List different countries.\n",
    "Answer: select distinct country as different_countries from country;"
   ]
  },
  {
   "cell_type": "code",
   "execution_count": null,
   "id": "ffc92921",
   "metadata": {},
   "outputs": [],
   "source": [
    "Question 5: Display all active customers.\n",
    "Answer: select active from customer;"
   ]
  },
  {
   "cell_type": "code",
   "execution_count": null,
   "id": "03373f82",
   "metadata": {},
   "outputs": [],
   "source": [
    "Question 6: List of all rental IDs for customer with ID 1.\n",
    "Answer: select rental_id, customer_id from payment where customer_id = 1;\n"
   ]
  },
  {
   "cell_type": "code",
   "execution_count": null,
   "id": "b671c53c",
   "metadata": {},
   "outputs": [],
   "source": [
    "Question 7: Display all the films whose rental duration is greater than 5 . \n",
    "\n",
    "Answer:  select title from film where rental_duration > 5;\n",
    "\n",
    "and we can write the codes as below.\n",
    "\n",
    "select title , rental_duration from film where rental_duration > 5;\n"
   ]
  },
  {
   "cell_type": "code",
   "execution_count": null,
   "id": "6c3f302c",
   "metadata": {},
   "outputs": [],
   "source": [
    "Question 8: List the total number of films whose replacement cost is greater than $15 and less than $20.\n",
    "Answer: select film_id as total_number_of_film, title from film where replacement_cost > 15 and replacement_cost <20 group by film_id;"
   ]
  },
  {
   "cell_type": "code",
   "execution_count": null,
   "id": "36b47f45",
   "metadata": {},
   "outputs": [],
   "source": [
    "\n",
    "Question 9: Find the number of films whose rental rate is less than $1.\n",
    "Answer: select film_id, title from film where rental_rate < 1 group by film_id;"
   ]
  },
  {
   "cell_type": "code",
   "execution_count": null,
   "id": "a3b2faf1",
   "metadata": {},
   "outputs": [],
   "source": [
    "Question 10: Display the count of unique first names of actors.\n",
    "Answer : select count(distinct(first_name)) from actor;\n"
   ]
  },
  {
   "cell_type": "code",
   "execution_count": null,
   "id": "b32a1f55",
   "metadata": {},
   "outputs": [],
   "source": [
    "Question 11: Display the first 10 records from the customer table.\n",
    "Answer : select * from customer limit 10;\n"
   ]
  },
  {
   "cell_type": "code",
   "execution_count": null,
   "id": "861a5110",
   "metadata": {},
   "outputs": [],
   "source": [
    "Question 12: Display the first 3 records from the customer table whose first name starts with ‘b’. \n",
    "Answer: select * from customer where first_name like 'b%'limit 3;\n"
   ]
  },
  {
   "cell_type": "code",
   "execution_count": null,
   "id": "3cd08571",
   "metadata": {},
   "outputs": [],
   "source": [
    "Question 13: Display the names of the first 5 movies which are rated as ‘G’.\n",
    "\n",
    "Answer: select title, rating from film where rating = 'G' limit 5;\n",
    "and we can write as below:\n",
    "\n",
    "select * from film where rating = 'G' limit 5;\n"
   ]
  },
  {
   "cell_type": "code",
   "execution_count": null,
   "id": "8d6faef6",
   "metadata": {},
   "outputs": [],
   "source": [
    "Question 14: Find all customers whose first name starts with \"a\". \n",
    "Answer: select * from customer where first_name like 'a%'\n"
   ]
  },
  {
   "cell_type": "code",
   "execution_count": null,
   "id": "09b5d5b7",
   "metadata": {},
   "outputs": [],
   "source": [
    "Question 15: Find all customers whose first name ends with \"a\". \n",
    "Answer: select * from customer where first_name like '%a'\n"
   ]
  },
  {
   "cell_type": "code",
   "execution_count": null,
   "id": "49bdccf2",
   "metadata": {},
   "outputs": [],
   "source": [
    "Question 16: Display the list of first 4 cities which start and end with ‘a’ . \n",
    "Answer: select city from city where city like 'a%' limit 4;\n"
   ]
  },
  {
   "cell_type": "code",
   "execution_count": null,
   "id": "f0114eb3",
   "metadata": {},
   "outputs": [],
   "source": [
    "Question 17: Find all customers whose first name have \"NI\" in any position. \n",
    "Answer: select first_name from customer where first_name like '%n%i%';\n"
   ]
  },
  {
   "cell_type": "code",
   "execution_count": null,
   "id": "e25b761d",
   "metadata": {},
   "outputs": [],
   "source": [
    "Question 18: Find all customers whose first name have \"r\" in the second position.\n",
    "Answer: select first_name from customer where first_name like '_r%';\n"
   ]
  },
  {
   "cell_type": "code",
   "execution_count": null,
   "id": "9a327c17",
   "metadata": {},
   "outputs": [],
   "source": [
    "Question 19: Find all customers whose first name starts with \"a\" and are at least 5 characters in length. \n",
    "Answer: select first_name from customer where first_name like 'a____';\n"
   ]
  },
  {
   "cell_type": "code",
   "execution_count": null,
   "id": "8e5957fd",
   "metadata": {},
   "outputs": [],
   "source": [
    "Question 20:  Find all customers whose first name starts with \"a\" and ends with \"o\". \n",
    "Answer: select first_name from customer where first_name like 'a%o';\n"
   ]
  },
  {
   "cell_type": "code",
   "execution_count": null,
   "id": "0ba680bd",
   "metadata": {},
   "outputs": [],
   "source": [
    "\n",
    "Question 21: Get the films with pg and pg-13 rating using IN operator. \n",
    "Answer: select * from film where rating in (PG, PG-13);"
   ]
  },
  {
   "cell_type": "code",
   "execution_count": null,
   "id": "a6ec096d",
   "metadata": {},
   "outputs": [],
   "source": [
    "\n",
    "Question 22: Get the films with length between 50 to 100 using between operator.\n",
    "Answer: select title, length from film where length between 50 and 100;\n"
   ]
  },
  {
   "cell_type": "code",
   "execution_count": null,
   "id": "cbe65d46",
   "metadata": {},
   "outputs": [],
   "source": [
    "Question 23: Get the top 50 actors using limit operator. \n",
    "Answer: select * from actor limit 50;\n"
   ]
  },
  {
   "cell_type": "code",
   "execution_count": null,
   "id": "d4c1b411",
   "metadata": {},
   "outputs": [],
   "source": [
    "\n",
    "Question 24: Get the distinct film ids from inventory table.\n",
    "Answer: select distinct film_id from inventory;"
   ]
  },
  {
   "cell_type": "code",
   "execution_count": null,
   "id": "b7077a24",
   "metadata": {},
   "outputs": [],
   "source": []
  }
 ],
 "metadata": {
  "kernelspec": {
   "display_name": "Python 3 (ipykernel)",
   "language": "python",
   "name": "python3"
  },
  "language_info": {
   "codemirror_mode": {
    "name": "ipython",
    "version": 3
   },
   "file_extension": ".py",
   "mimetype": "text/x-python",
   "name": "python",
   "nbconvert_exporter": "python",
   "pygments_lexer": "ipython3",
   "version": "3.10.2"
  }
 },
 "nbformat": 4,
 "nbformat_minor": 5
}
